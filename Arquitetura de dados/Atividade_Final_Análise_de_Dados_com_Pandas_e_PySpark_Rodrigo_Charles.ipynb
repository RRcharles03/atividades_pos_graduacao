{
  "nbformat": 4,
  "nbformat_minor": 0,
  "metadata": {
    "colab": {
      "provenance": [],
      "toc_visible": true
    },
    "kernelspec": {
      "name": "python3",
      "display_name": "Python 3"
    },
    "language_info": {
      "name": "python"
    }
  },
  "cells": [
    {
      "cell_type": "markdown",
      "source": [
        "# Atividade Final - Análise de Dados com Pandas e PySpark\n",
        "    Disciplina: Arquitetura de Dados"
      ],
      "metadata": {
        "id": "8vQOBUuS0ayG"
      }
    },
    {
      "cell_type": "markdown",
      "source": [
        "# Introdução\n",
        "\n",
        "Fonte: https://www.kaggle.com/datasets/tmdb/tmdb-movie-metadata\n",
        "\n",
        "Objetivo: Análise comparativa de desempenho entre Pandas e PySpark"
      ],
      "metadata": {
        "id": "uxhppzYI0wwd"
      }
    },
    {
      "cell_type": "markdown",
      "source": [
        "\n",
        "\n",
        "# 1. Importação de Bibliotecas\n"
      ],
      "metadata": {
        "id": "qTniFLLH17Gp"
      }
    },
    {
      "cell_type": "code",
      "execution_count": 1,
      "metadata": {
        "id": "LPYcsaPE0XRB"
      },
      "outputs": [],
      "source": [
        "import pandas as pd\n",
        "import pyspark\n",
        "from pyspark.sql import SparkSession\n",
        "import matplotlib.pyplot as plt\n",
        "import seaborn as sns\n",
        "import time\n",
        "from pyspark.sql.functions import col, when"
      ]
    },
    {
      "cell_type": "markdown",
      "source": [
        "# 2. Leitura do Dataset"
      ],
      "metadata": {
        "id": "9956jiqX2AMR"
      }
    },
    {
      "cell_type": "markdown",
      "source": [
        "## 2.1 - Dataset Credits"
      ],
      "metadata": {
        "id": "0Da1HGYc3waX"
      }
    },
    {
      "cell_type": "code",
      "source": [
        "spark = SparkSession.builder.appName(\"Análise com PySpark\").getOrCreate()\n",
        "\n",
        "df_pd_credits = pd.read_csv('/content/tmdb_5000_credits.csv')\n",
        "df_spark_credits = spark.read.csv('/content/tmdb_5000_credits.csv', header=True, inferSchema=True)"
      ],
      "metadata": {
        "id": "R9MLlHIN2CIg"
      },
      "execution_count": 6,
      "outputs": []
    },
    {
      "cell_type": "markdown",
      "source": [
        "## 2.2 - Dataset Movies"
      ],
      "metadata": {
        "id": "yUx4owyv38XE"
      }
    },
    {
      "cell_type": "code",
      "source": [
        "df_pd_movies = pd.read_csv('/content/tmdb_5000_movies.csv')\n",
        "df_spark_movies = spark.read.csv('/content/tmdb_5000_movies.csv', header=True, inferSchema=True)"
      ],
      "metadata": {
        "id": "GGyn3sF04CPg"
      },
      "execution_count": 11,
      "outputs": []
    },
    {
      "cell_type": "markdown",
      "source": [
        "# 3. Análise Inicial"
      ],
      "metadata": {
        "id": "AH20xYic2gSk"
      }
    },
    {
      "cell_type": "markdown",
      "source": [
        "## 3.1 - Dataset Credits"
      ],
      "metadata": {
        "id": "P0zILLmV4MDY"
      }
    },
    {
      "cell_type": "code",
      "source": [
        "print(\"Pandas Info:\\n\", df_pd_credits.info())\n",
        "print(\"Pandas Descrição:\\n\", df_pd_credits.describe())\n",
        "print(\"Valores Nulos (Pandas):\\n\", df_pd_credits.isnull().sum())\n",
        "print(\"Duplicados (Pandas):\", df_pd_credits.duplicated().sum())\n",
        "\n",
        "print(\"\\nSchema (PySpark):\")\n",
        "df_spark_credits.printSchema()\n",
        "df_spark_credits.describe().show()\n",
        "df_spark_credits.select([when(col(c).isNull(), 1).otherwise(0).alias(c) for c in df_spark_credits.columns]).summary().show()"
      ],
      "metadata": {
        "colab": {
          "base_uri": "https://localhost:8080/"
        },
        "id": "b-Szcrko2jg4",
        "outputId": "60e0584a-2208-4b65-a2d0-4e4974748cfa"
      },
      "execution_count": 10,
      "outputs": [
        {
          "output_type": "stream",
          "name": "stdout",
          "text": [
            "<class 'pandas.core.frame.DataFrame'>\n",
            "RangeIndex: 4803 entries, 0 to 4802\n",
            "Data columns (total 4 columns):\n",
            " #   Column    Non-Null Count  Dtype \n",
            "---  ------    --------------  ----- \n",
            " 0   movie_id  4803 non-null   int64 \n",
            " 1   title     4803 non-null   object\n",
            " 2   cast      4803 non-null   object\n",
            " 3   crew      4803 non-null   object\n",
            "dtypes: int64(1), object(3)\n",
            "memory usage: 150.2+ KB\n",
            "Pandas Info:\n",
            " None\n",
            "Pandas Descrição:\n",
            "             movie_id\n",
            "count    4803.000000\n",
            "mean    57165.484281\n",
            "std     88694.614033\n",
            "min         5.000000\n",
            "25%      9014.500000\n",
            "50%     14629.000000\n",
            "75%     58610.500000\n",
            "max    459488.000000\n",
            "Valores Nulos (Pandas):\n",
            " movie_id    0\n",
            "title       0\n",
            "cast        0\n",
            "crew        0\n",
            "dtype: int64\n",
            "Duplicados (Pandas): 0\n",
            "\n",
            "Schema (PySpark):\n",
            "root\n",
            " |-- movie_id: integer (nullable = true)\n",
            " |-- title: string (nullable = true)\n",
            " |-- cast: string (nullable = true)\n",
            " |-- crew: string (nullable = true)\n",
            "\n",
            "+-------+------------------+------------------+-----------------+--------------------+\n",
            "|summary|          movie_id|             title|             cast|                crew|\n",
            "+-------+------------------+------------------+-----------------+--------------------+\n",
            "|  count|              4803|              4803|             4803|                4803|\n",
            "|   mean|57165.484280657925|1125.1666666666667|             NULL|                NULL|\n",
            "| stddev| 88694.61403331811| 935.2601809446428|             NULL|                NULL|\n",
            "|    min|                 5|           #Horror|\"[{\"\"cast_id\"\": 0| \"\"character\"\": \"\"\"\"|\n",
            "|    max|            459488|          Æon Flux|               []|                  []|\n",
            "+-------+------------------+------------------+-----------------+--------------------+\n",
            "\n",
            "+-------+--------+-----+----+----+\n",
            "|summary|movie_id|title|cast|crew|\n",
            "+-------+--------+-----+----+----+\n",
            "|  count|    4803| 4803|4803|4803|\n",
            "|   mean|     0.0|  0.0| 0.0| 0.0|\n",
            "| stddev|     0.0|  0.0| 0.0| 0.0|\n",
            "|    min|       0|    0|   0|   0|\n",
            "|    25%|       0|    0|   0|   0|\n",
            "|    50%|       0|    0|   0|   0|\n",
            "|    75%|       0|    0|   0|   0|\n",
            "|    max|       0|    0|   0|   0|\n",
            "+-------+--------+-----+----+----+\n",
            "\n"
          ]
        }
      ]
    },
    {
      "cell_type": "markdown",
      "source": [
        "## 3.2 - Dataset Movies\n"
      ],
      "metadata": {
        "id": "DxLOYgvK4RCL"
      }
    },
    {
      "cell_type": "code",
      "source": [
        "print(\"Pandas Info:\\n\", df_pd_movies.info())\n",
        "print(\"Pandas Descrição:\\n\", df_pd_movies.describe())\n",
        "print(\"Valores Nulos (Pandas):\\n\", df_pd_movies.isnull().sum())\n",
        "print(\"Duplicados (Pandas):\", df_pd_movies.duplicated().sum())\n",
        "\n",
        "print(\"\\nSchema (PySpark):\")\n",
        "df_spark_movies.printSchema()\n",
        "df_spark_movies.describe().show()\n",
        "df_spark_movies.select([when(col(c).isNull(), 1).otherwise(0).alias(c) for c in df_spark_movies.columns]).summary().show()"
      ],
      "metadata": {
        "colab": {
          "base_uri": "https://localhost:8080/"
        },
        "id": "qvW1qBwN4T8J",
        "outputId": "ffd0608b-5b34-4a33-8f50-e726f11e91bf"
      },
      "execution_count": 12,
      "outputs": [
        {
          "output_type": "stream",
          "name": "stdout",
          "text": [
            "<class 'pandas.core.frame.DataFrame'>\n",
            "RangeIndex: 4803 entries, 0 to 4802\n",
            "Data columns (total 20 columns):\n",
            " #   Column                Non-Null Count  Dtype  \n",
            "---  ------                --------------  -----  \n",
            " 0   budget                4803 non-null   int64  \n",
            " 1   genres                4803 non-null   object \n",
            " 2   homepage              1712 non-null   object \n",
            " 3   id                    4803 non-null   int64  \n",
            " 4   keywords              4803 non-null   object \n",
            " 5   original_language     4803 non-null   object \n",
            " 6   original_title        4803 non-null   object \n",
            " 7   overview              4800 non-null   object \n",
            " 8   popularity            4803 non-null   float64\n",
            " 9   production_companies  4803 non-null   object \n",
            " 10  production_countries  4803 non-null   object \n",
            " 11  release_date          4802 non-null   object \n",
            " 12  revenue               4803 non-null   int64  \n",
            " 13  runtime               4801 non-null   float64\n",
            " 14  spoken_languages      4803 non-null   object \n",
            " 15  status                4803 non-null   object \n",
            " 16  tagline               3959 non-null   object \n",
            " 17  title                 4803 non-null   object \n",
            " 18  vote_average          4803 non-null   float64\n",
            " 19  vote_count            4803 non-null   int64  \n",
            "dtypes: float64(3), int64(4), object(13)\n",
            "memory usage: 750.6+ KB\n",
            "Pandas Info:\n",
            " None\n",
            "Pandas Descrição:\n",
            "              budget             id   popularity       revenue      runtime  \\\n",
            "count  4.803000e+03    4803.000000  4803.000000  4.803000e+03  4801.000000   \n",
            "mean   2.904504e+07   57165.484281    21.492301  8.226064e+07   106.875859   \n",
            "std    4.072239e+07   88694.614033    31.816650  1.628571e+08    22.611935   \n",
            "min    0.000000e+00       5.000000     0.000000  0.000000e+00     0.000000   \n",
            "25%    7.900000e+05    9014.500000     4.668070  0.000000e+00    94.000000   \n",
            "50%    1.500000e+07   14629.000000    12.921594  1.917000e+07   103.000000   \n",
            "75%    4.000000e+07   58610.500000    28.313505  9.291719e+07   118.000000   \n",
            "max    3.800000e+08  459488.000000   875.581305  2.787965e+09   338.000000   \n",
            "\n",
            "       vote_average    vote_count  \n",
            "count   4803.000000   4803.000000  \n",
            "mean       6.092172    690.217989  \n",
            "std        1.194612   1234.585891  \n",
            "min        0.000000      0.000000  \n",
            "25%        5.600000     54.000000  \n",
            "50%        6.200000    235.000000  \n",
            "75%        6.800000    737.000000  \n",
            "max       10.000000  13752.000000  \n",
            "Valores Nulos (Pandas):\n",
            " budget                     0\n",
            "genres                     0\n",
            "homepage                3091\n",
            "id                         0\n",
            "keywords                   0\n",
            "original_language          0\n",
            "original_title             0\n",
            "overview                   3\n",
            "popularity                 0\n",
            "production_companies       0\n",
            "production_countries       0\n",
            "release_date               1\n",
            "revenue                    0\n",
            "runtime                    2\n",
            "spoken_languages           0\n",
            "status                     0\n",
            "tagline                  844\n",
            "title                      0\n",
            "vote_average               0\n",
            "vote_count                 0\n",
            "dtype: int64\n",
            "Duplicados (Pandas): 0\n",
            "\n",
            "Schema (PySpark):\n",
            "root\n",
            " |-- budget: string (nullable = true)\n",
            " |-- genres: string (nullable = true)\n",
            " |-- homepage: string (nullable = true)\n",
            " |-- id: string (nullable = true)\n",
            " |-- keywords: string (nullable = true)\n",
            " |-- original_language: string (nullable = true)\n",
            " |-- original_title: string (nullable = true)\n",
            " |-- overview: string (nullable = true)\n",
            " |-- popularity: string (nullable = true)\n",
            " |-- production_companies: string (nullable = true)\n",
            " |-- production_countries: string (nullable = true)\n",
            " |-- release_date: string (nullable = true)\n",
            " |-- revenue: string (nullable = true)\n",
            " |-- runtime: string (nullable = true)\n",
            " |-- spoken_languages: string (nullable = true)\n",
            " |-- status: string (nullable = true)\n",
            " |-- tagline: string (nullable = true)\n",
            " |-- title: string (nullable = true)\n",
            " |-- vote_average: string (nullable = true)\n",
            " |-- vote_count: string (nullable = true)\n",
            "\n",
            "+-------+--------------------+--------------------+--------------------+--------------------+--------------------+--------------------+-----------------+--------------------+--------------------+--------------------+--------------------+--------------------+-----------------+-----------------+------------------+------------------+---------------------------+--------------------+--------------------+--------------------+\n",
            "|summary|              budget|              genres|            homepage|                  id|            keywords|   original_language|   original_title|            overview|          popularity|production_companies|production_countries|        release_date|          revenue|          runtime|  spoken_languages|            status|                    tagline|               title|        vote_average|          vote_count|\n",
            "+-------+--------------------+--------------------+--------------------+--------------------+--------------------+--------------------+-----------------+--------------------+--------------------+--------------------+--------------------+--------------------+-----------------+-----------------+------------------+------------------+---------------------------+--------------------+--------------------+--------------------+\n",
            "|  count|                4806|                4806|                4783|                4193|                4806|                3845|             4806|                3880|                4805|                4381|                4806|                4685|             4806|             4786|              4805|              4801|                       4793|                4794|                4790|                4782|\n",
            "|   mean| 2.904503987528628E7|                NULL|                NULL|            257933.0|   75390.93256815411|                NULL|60655.81073825504|                NULL|   49231.04659471788|   3.096915202127659|    34320.0673162791|   4.768344984732824|23077.10488166757|      5390.917685|10386.103605955224|1116190.4968455264|         1014255.8731825597|   2969856.089444494|  1105015.8913976687|  2922807.8691073153|\n",
            "| stddev| 4.072239125855031E7|                NULL|                NULL|   95898.57464974049|   102305.6701334273|                NULL|89395.75119367782|                NULL|   81891.36353956888|   6.060575236299895|   66166.60404926521|   9.960502510946357|100040.0873778151|67452.74189580302| 127340.4047903785| 5422683.495770553|       1.0805590701747643E7|1.3527026438717993E7|1.0756357949255895E7|1.8610958459415328E7|\n",
            "|    min| As the main char...| Ralph (Adam Butc...| \"\"name\"\": \"\"Acti...| a waitress who e...| \"\"name\"\": \"\"Acti...| \"\"name\"\": \"\"wife...|  \"\"id\"\": 1950}]\"| \"\"name\"\": \"\"real...|     \"\"id\"\": 5682}]\"| \"\"name\"\": \"\"real...| \"\"Tales From the...| \"\"Tales From the...|                 |   \"\"id\"\": 10026}|    \"\"id\"\": 10221}|  \"\"id\"\": 10100}]\"|           \"\"id\"\": 10163}]\"|      \"\"id\"\": 10157}|      \"\"id\"\": 10046}|      \"\"id\"\": 10031}|\n",
            "|    max|            99000000|                  []|http://www.realit...|https://www.uphe....|                  []|https://www.uphe....|               ro|            逃出生天|“Majo” Tonorio, a...|          疯狂的石头|       친절한 금자씨|               放‧逐|       黃石的孩子|               zh|          非常幸运|        疯狂的赛车|좋은 놈, 나쁜 놈, 이상한 놈|“The Perfect Wave...|            一個好人|“Lies in Plain Si...|\n",
            "+-------+--------------------+--------------------+--------------------+--------------------+--------------------+--------------------+-----------------+--------------------+--------------------+--------------------+--------------------+--------------------+-----------------+-----------------+------------------+------------------+---------------------------+--------------------+--------------------+--------------------+\n",
            "\n",
            "+-------+------+------+-------------------+-------------------+--------+-------------------+--------------+-------------------+--------------------+--------------------+--------------------+-------------------+-------+--------------------+--------------------+--------------------+--------------------+--------------------+--------------------+--------------------+\n",
            "|summary|budget|genres|           homepage|                 id|keywords|  original_language|original_title|           overview|          popularity|production_companies|production_countries|       release_date|revenue|             runtime|    spoken_languages|              status|             tagline|               title|        vote_average|          vote_count|\n",
            "+-------+------+------+-------------------+-------------------+--------+-------------------+--------------+-------------------+--------------------+--------------------+--------------------+-------------------+-------+--------------------+--------------------+--------------------+--------------------+--------------------+--------------------+--------------------+\n",
            "|  count|  4806|  4806|               4806|               4806|    4806|               4806|          4806|               4806|                4806|                4806|                4806|               4806|   4806|                4806|                4806|                4806|                4806|                4806|                4806|                4806|\n",
            "|   mean|   0.0|   0.0|0.00478568456096546|0.12754889721181856|     0.0|0.19995838535164379|           0.0|0.19267582188930504|2.080732417811069...| 0.08843112775697046|                 0.0|0.02517686225551394|    0.0|0.004161464835622139|2.080732417811069...|0.001040366208905...|0.002704952143154...|0.002496878901373...|0.003329171868497...|0.004993757802746567|\n",
            "| stddev|   0.0|   0.0|0.06902009126290104|0.33362154498422325|     0.0| 0.4000104035267973|           0.0|0.39444165913620716| 0.01442474408026385|  0.2839504180250947|                 0.0|0.15667831906273863|    0.0| 0.06438174828016337|0.014424744080263851|0.032241280049351305| 0.05194417002525588| 0.04991155018082874| 0.05760884508718877| 0.07049719341537773|\n",
            "|    min|     0|     0|                  0|                  0|       0|                  0|             0|                  0|                   0|                   0|                   0|                  0|      0|                   0|                   0|                   0|                   0|                   0|                   0|                   0|\n",
            "|    25%|     0|     0|                  0|                  0|       0|                  0|             0|                  0|                   0|                   0|                   0|                  0|      0|                   0|                   0|                   0|                   0|                   0|                   0|                   0|\n",
            "|    50%|     0|     0|                  0|                  0|       0|                  0|             0|                  0|                   0|                   0|                   0|                  0|      0|                   0|                   0|                   0|                   0|                   0|                   0|                   0|\n",
            "|    75%|     0|     0|                  0|                  0|       0|                  0|             0|                  0|                   0|                   0|                   0|                  0|      0|                   0|                   0|                   0|                   0|                   0|                   0|                   0|\n",
            "|    max|     0|     0|                  1|                  1|       0|                  1|             0|                  1|                   1|                   1|                   0|                  1|      0|                   1|                   1|                   1|                   1|                   1|                   1|                   1|\n",
            "+-------+------+------+-------------------+-------------------+--------+-------------------+--------------+-------------------+--------------------+--------------------+--------------------+-------------------+-------+--------------------+--------------------+--------------------+--------------------+--------------------+--------------------+--------------------+\n",
            "\n"
          ]
        }
      ]
    },
    {
      "cell_type": "markdown",
      "source": [
        "# 4. Limpeza dos Dados"
      ],
      "metadata": {
        "id": "rbLNLYyn42FF"
      }
    },
    {
      "cell_type": "markdown",
      "source": [
        "## 4.1 - Dataset Credits\n"
      ],
      "metadata": {
        "id": "mvnAl-v-5AUG"
      }
    },
    {
      "cell_type": "code",
      "source": [
        "df_pd_credits.drop_duplicates(inplace=True)\n",
        "df_pd_credits.dropna(inplace=True)\n",
        "\n",
        "df_spark_credits = df_spark_credits.dropDuplicates()\n",
        "df_spark_credits = df_spark_credits.na.drop()"
      ],
      "metadata": {
        "id": "U_MnLOwS5DDf"
      },
      "execution_count": 14,
      "outputs": []
    },
    {
      "cell_type": "markdown",
      "source": [
        "## 4.2 - Dataset Movies"
      ],
      "metadata": {
        "id": "cWOSH2Gl5j7P"
      }
    },
    {
      "cell_type": "code",
      "source": [
        "df_pd_movies.drop_duplicates(inplace=True)\n",
        "df_pd_movies.dropna(inplace=True)\n",
        "\n",
        "df_spark_movies = df_spark_movies.dropDuplicates()\n",
        "df_spark_movies = df_spark_movies.na.drop()"
      ],
      "metadata": {
        "id": "EIKBII2W5qLO"
      },
      "execution_count": 25,
      "outputs": []
    },
    {
      "cell_type": "markdown",
      "source": [
        "# 5. Transformações"
      ],
      "metadata": {
        "id": "jgOHLSGD3OX2"
      }
    },
    {
      "cell_type": "markdown",
      "source": [
        "## 5.1 - Dataset Movies"
      ],
      "metadata": {
        "id": "AWEpp-iW52aA"
      }
    },
    {
      "cell_type": "code",
      "source": [
        "# O data set de creditos apenas nos trás dados sobre os creditos dos filme, como titulo e elenco. Neste caso não e interessante e possível realizar nenhuma transformação."
      ],
      "metadata": {
        "id": "T_841FNh59E4"
      },
      "execution_count": null,
      "outputs": []
    },
    {
      "cell_type": "code",
      "source": [
        "# Criar coluna \"lucro\" como receita - orçamento\n",
        "df_pd_movies['lucro'] = df_pd_movies['revenue'] - df_pd_movies['budget']\n",
        "df_spark_movies = df_spark_movies.withColumn('lucro', col('revenue') - col('budget'))\n",
        "\n",
        "print('No pandas coluna lucro')\n",
        "print(df_pd_movies['lucro'])\n",
        "\n",
        "print('No pyspark coluna lucro')\n",
        "df_spark_movies.select('lucro').show()"
      ],
      "metadata": {
        "colab": {
          "base_uri": "https://localhost:8080/"
        },
        "id": "-niOKlAk3Q3q",
        "outputId": "41a7ea28-6cde-48f8-9fc0-8bacc8fa32f7"
      },
      "execution_count": 33,
      "outputs": [
        {
          "output_type": "stream",
          "name": "stdout",
          "text": [
            "No pandas coluna lucro\n",
            "0       2550965087\n",
            "1        661000000\n",
            "2        635674609\n",
            "3        834939099\n",
            "4         24139100\n",
            "           ...    \n",
            "4773       3124130\n",
            "4781        -22000\n",
            "4791           -13\n",
            "4796        417760\n",
            "4801             0\n",
            "Name: lucro, Length: 1493, dtype: int64\n",
            "No pyspark coluna lucro\n",
            "+------------------+\n",
            "|             lucro|\n",
            "+------------------+\n",
            "|           1.73892|\n",
            "|     -1.29998505E8|\n",
            "|   -9999996.080943|\n",
            "|   -9999992.055543|\n",
            "|      -1.9992781E8|\n",
            "|      -5.9961679E7|\n",
            "|     -1.64822428E8|\n",
            "|      -3.1996011E7|\n",
            "|      -3.9931821E7|\n",
            "|-1.4999999664805E7|\n",
            "|      -7.4944699E7|\n",
            "|      -7.4976602E7|\n",
            "|      -5.9862894E7|\n",
            "|      -1.4998164E8|\n",
            "|     -1.49993521E8|\n",
            "|-1.4999998102239E7|\n",
            "|     -1.74702239E8|\n",
            "|      -5.9999192E7|\n",
            "|      -1.4989815E7|\n",
            "|   -3999989.210088|\n",
            "+------------------+\n",
            "only showing top 20 rows\n",
            "\n"
          ]
        }
      ]
    },
    {
      "cell_type": "code",
      "source": [
        "# Filtro: apenas filmes com lucro positivo\n",
        "df_lucro_pd = df_pd_movies[df_pd_movies['lucro'] > 0]\n",
        "df_lucro_spark = df_spark_movies.filter(col('lucro') > 0)\n",
        "\n",
        "\n",
        "# Filtro: apenas filmes com lucro positivo\n",
        "df_lucro_pd = df_pd_movies[df_pd_movies['lucro'] > 0]\n",
        "df_lucro_spark = df_spark_movies.filter(col('lucro') > 0)\n",
        "\n",
        "print('No pandas')\n",
        "print(df_lucro_pd[['title', 'lucro']])\n",
        "\n",
        "print('No pyspark ')\n",
        "df_lucro_spark.select('title','lucro').show()"
      ],
      "metadata": {
        "colab": {
          "base_uri": "https://localhost:8080/"
        },
        "id": "q1ClhCtW7Rga",
        "outputId": "0bfd3ad6-de1e-4d72-c323-73d650d39cd2"
      },
      "execution_count": 48,
      "outputs": [
        {
          "output_type": "stream",
          "name": "stdout",
          "text": [
            "No pandas\n",
            "                                         title       lucro\n",
            "0                                       Avatar  2550965087\n",
            "1     Pirates of the Caribbean: At World's End   661000000\n",
            "2                                      Spectre   635674609\n",
            "3                        The Dark Knight Rises   834939099\n",
            "4                                  John Carter    24139100\n",
            "...                                        ...         ...\n",
            "4738                                        Pi     3161152\n",
            "4752                            Tiny Furniture      351498\n",
            "4766                            The Last Waltz      321952\n",
            "4773                                    Clerks     3124130\n",
            "4796                                    Primer      417760\n",
            "\n",
            "[1056 rows x 2 columns]\n",
            "No pyspark \n",
            "+--------------------+---------+\n",
            "|               title|    lucro|\n",
            "+--------------------+---------+\n",
            "|\"[{\"\"iso_3166_1\"\"...|  1.73892|\n",
            "|          2013-12-13| 5.377155|\n",
            "|       {\"\"id\"\": 6270|  11887.0|\n",
            "|\"[{\"\"iso_3166_1\"\"...| 3.659292|\n",
            "| {\"\"name\"\": \"\"Moh...|17.074843|\n",
            "|          2008-12-24| 0.122874|\n",
            "|       {\"\"id\"\": 3994|   2008.0|\n",
            "|          2009-09-14| 2.015525|\n",
            "|     {\"\"id\"\": 210894| 333355.0|\n",
            "|\"[{\"\"iso_3166_1\"\"...|  0.46049|\n",
            "|\"[{\"\"iso_3166_1\"\"...| 3.291609|\n",
            "| {\"\"iso_3166_1\"\":...|  0.59458|\n",
            "| {\"\"name\"\": \"\"Cre...| 2.756435|\n",
            "|                   0|  0.05021|\n",
            "|             5355847|  1.86221|\n",
            "| {\"\"name\"\": \"\"Har...| 5.498834|\n",
            "|          2014-01-11|  0.43049|\n",
            "|          2009-01-01| 1.563711|\n",
            "|                   0| 0.176377|\n",
            "|\"[{\"\"iso_3166_1\"\"...| 2.160586|\n",
            "+--------------------+---------+\n",
            "\n"
          ]
        }
      ]
    },
    {
      "cell_type": "markdown",
      "source": [
        "# 6. Análise Exploratória (Pandas)"
      ],
      "metadata": {
        "id": "q0qVOuQI9e2B"
      }
    },
    {
      "cell_type": "code",
      "source": [
        "plt.figure(figsize=(10, 6))\n",
        "sns.histplot(df_pd_movies['lucro'], bins=50, kde=True)\n",
        "plt.title(\"Distribuição do Lucro dos Filmes\")\n",
        "plt.xlabel(\"Lucro\")\n",
        "plt.ylabel(\"Frequência\")\n",
        "plt.show()"
      ],
      "metadata": {
        "colab": {
          "base_uri": "https://localhost:8080/",
          "height": 564
        },
        "id": "1b0o6EpX9gvr",
        "outputId": "9b91325d-a0d3-47da-967e-c68f50eb9607"
      },
      "execution_count": 39,
      "outputs": [
        {
          "output_type": "display_data",
          "data": {
            "text/plain": [
              "<Figure size 1000x600 with 1 Axes>"
            ],
            "image/png": "[encoded data removed]"
          },
          "metadata": {}
        }
      ]
    },
    {
      "cell_type": "code",
      "source": [
        "# Filme mais rentável (Pandas)\n",
        "\n",
        "filme_mais_rentavel = df_pd_movies.loc[df_pd_movies['lucro'].idxmax()]\n",
        "print(\"\\nFilme mais rentável (Pandas):\")\n",
        "print(filme_mais_rentavel[['title', 'lucro']])"
      ],
      "metadata": {
        "colab": {
          "base_uri": "https://localhost:8080/"
        },
        "id": "W1cGM_gH_sTE",
        "outputId": "721b09b4-5938-49ac-c30a-7fa0ec487a96"
      },
      "execution_count": 50,
      "outputs": [
        {
          "output_type": "stream",
          "name": "stdout",
          "text": [
            "\n",
            "Filme mais rentável (Pandas):\n",
            "title        Avatar\n",
            "lucro    2550965087\n",
            "Name: 0, dtype: object\n"
          ]
        }
      ]
    },
    {
      "cell_type": "code",
      "source": [
        "# Filme mais rentável por gênero (Pandas)\n",
        "\n",
        "if 'genres' in df_pd_movies.columns:\n",
        "    lucro_por_genero = df_pd_movies.groupby('genres')[['lucro']].max().sort_values(by='lucro', ascending=False)\n",
        "    print(\"\\nFilme mais rentável por gênero (Pandas):\")\n",
        "    print(lucro_por_genero)"
      ],
      "metadata": {
        "colab": {
          "base_uri": "https://localhost:8080/"
        },
        "id": "giMedNF3AH8E",
        "outputId": "62889ca6-e2b9-4ff3-b3e9-70a48ea627d7"
      },
      "execution_count": 52,
      "outputs": [
        {
          "output_type": "stream",
          "name": "stdout",
          "text": [
            "\n",
            "Filme mais rentável por gênero (Pandas):\n",
            "                                                         lucro\n",
            "genres                                                        \n",
            "[{\"id\": 28, \"name\": \"Action\"}, {\"id\": 12, \"name...  2550965087\n",
            "[{\"id\": 18, \"name\": \"Drama\"}, {\"id\": 10749, \"na...  1645034188\n",
            "[{\"id\": 28, \"name\": \"Action\"}, {\"id\": 12, \"name...  1363528810\n",
            "[{\"id\": 28, \"name\": \"Action\"}]                      1316249360\n",
            "[{\"id\": 878, \"name\": \"Science Fiction\"}, {\"id\":...  1299557910\n",
            "...                                                        ...\n",
            "[{\"id\": 12, \"name\": \"Adventure\"}, {\"id\": 16, \"n...   -61403089\n",
            "[{\"id\": 16, \"name\": \"Animation\"}, {\"id\": 28, \"n...   -64926294\n",
            "[{\"id\": 14, \"name\": \"Fantasy\"}, {\"id\": 28, \"nam...   -68351500\n",
            "[{\"id\": 53, \"name\": \"Thriller\"}, {\"id\": 878, \"n...   -74010360\n",
            "[{\"id\": 28, \"name\": \"Action\"}, {\"id\": 12, \"name...  -165710090\n",
            "\n",
            "[555 rows x 1 columns]\n"
          ]
        }
      ]
    },
    {
      "cell_type": "code",
      "source": [
        "# # Filme mais rentável (PySpark)\n",
        "# # Não consegui resolver este erro, por isso deixei comentado.\n",
        "# from pyspark.sql.functions import get_json_object\n",
        "\n",
        "# # Se a coluna 'title' for um JSON, extrair o campo 'name'\n",
        "\n",
        "# df_spark_rentavel_nome = df_spark_movies.withColumn(\"title_name\", get_json_object(col(\"title\"), \"$.name\"))\n",
        "# titulo_mais_rentavel = df_spark_rentavel_nome.orderBy(col('lucro').desc()).select('title_name').first()\n",
        "# print(\"\\nFilme mais rentável (PySpark):\")\n",
        "# if titulo_mais_rentavel and 'title_name' in titulo_mais_rentavel.asDict():\n",
        "#     print(titulo_mais_rentavel['title_name'])\n",
        "# else:\n",
        "#     print(\"Nome do título não disponível ou estrutura inválida.\")"
      ],
      "metadata": {
        "colab": {
          "base_uri": "https://localhost:8080/"
        },
        "id": "z27CMf68ARJ-",
        "outputId": "58a62f49-0aef-4e32-b293-0c1fda044977"
      },
      "execution_count": 68,
      "outputs": [
        {
          "output_type": "stream",
          "name": "stdout",
          "text": [
            "\n",
            "Filme mais rentável (PySpark):\n",
            "None\n"
          ]
        }
      ]
    },
    {
      "cell_type": "code",
      "source": [
        "# Filme mais rentável por gênero (PySpark)\n",
        "\n",
        "from pyspark.sql.functions import max as spark_max\n",
        "\n",
        "if 'genres' in df_spark_movies.columns:\n",
        "    df_spark_movies.groupBy('genres').agg(spark_max('lucro').alias('lucro_max')).orderBy(col('lucro_max').desc()).show()"
      ],
      "metadata": {
        "colab": {
          "base_uri": "https://localhost:8080/"
        },
        "id": "V8z-bdLuCaRD",
        "outputId": "1166895e-aee9-4134-c751-eba7edf1ea88"
      },
      "execution_count": 67,
      "outputs": [
        {
          "output_type": "stream",
          "name": "stdout",
          "text": [
            "+----------------+------------+\n",
            "|          genres|   lucro_max|\n",
            "+----------------+------------+\n",
            "|   \"[{\"\"id\"\": 28|    333355.0|\n",
            "|   \"[{\"\"id\"\": 35|     11887.0|\n",
            "|   \"[{\"\"id\"\": 14|      2008.0|\n",
            "|   \"[{\"\"id\"\": 18|   17.074843|\n",
            "|   \"[{\"\"id\"\": 99|    3.291609|\n",
            "|   \"[{\"\"id\"\": 27|    1.563711|\n",
            "|   \"[{\"\"id\"\": 36|     0.59458|\n",
            "|\"[{\"\"id\"\": 10402|     0.46049|\n",
            "|   \"[{\"\"id\"\": 53|     0.43049|\n",
            "|              []|         0.0|\n",
            "| \"[{\"\"id\"\": 9648|-1.4989815E7|\n",
            "|   \"[{\"\"id\"\": 12|-1.5989009E7|\n",
            "|   \"[{\"\"id\"\": 16|-3.9931821E7|\n",
            "|   \"[{\"\"id\"\": 80|-4.4941767E7|\n",
            "|\"[{\"\"id\"\": 10752|-4.9683848E7|\n",
            "|  \"[{\"\"id\"\": 878|-6.9983134E7|\n",
            "+----------------+------------+\n",
            "\n"
          ]
        }
      ]
    },
    {
      "cell_type": "markdown",
      "source": [
        "# 7. Comparação de Desempenho"
      ],
      "metadata": {
        "id": "COe-nVnI9ugx"
      }
    },
    {
      "cell_type": "code",
      "source": [
        "start = time.time()\n",
        "df_pd_movies['lucro'] = df_pd_movies['revenue'] - df_pd_movies['budget']\n",
        "print(\"Tempo Pandas:\", time.time() - start)\n",
        "\n",
        "start = time.time()\n",
        "df_spark_movies = df_spark_movies.withColumn('lucro', col('revenue') - col('budget'))\n",
        "print(\"Tempo PySpark:\", time.time() - start)"
      ],
      "metadata": {
        "colab": {
          "base_uri": "https://localhost:8080/"
        },
        "id": "Ki0TxeSp9vom",
        "outputId": "0c0afde3-2b3e-4a52-fb4a-e5b2d5f0f000"
      },
      "execution_count": 40,
      "outputs": [
        {
          "output_type": "stream",
          "name": "stdout",
          "text": [
            "Tempo Pandas: 0.0011174678802490234\n",
            "Tempo PySpark: 0.02512359619140625\n"
          ]
        }
      ]
    },
    {
      "cell_type": "markdown",
      "source": [
        "8. Conclusão"
      ],
      "metadata": {
        "id": "GUmMszKA99cF"
      }
    },
    {
      "cell_type": "code",
      "source": [
        "print(\"\"\"\n",
        "Conclusão:\n",
        "- Pandas é mais simples e rápido para conjuntos de dados pequenos e médios.\n",
        "- PySpark se destaca em escalabilidade para grandes volumes de dados.\n",
        "- A combinação das duas ferramentas permite uma abordagem versátil para diferentes cenários de análise de dados.\n",
        "\"\"\")"
      ],
      "metadata": {
        "colab": {
          "base_uri": "https://localhost:8080/"
        },
        "id": "9maa6vz09-o2",
        "outputId": "280bce4a-795c-4c94-874b-67314e55aec1"
      },
      "execution_count": 41,
      "outputs": [
        {
          "output_type": "stream",
          "name": "stdout",
          "text": [
            "\n",
            "Conclusão:\n",
            "- Pandas é mais simples e rápido para conjuntos de dados pequenos e médios.\n",
            "- PySpark se destaca em escalabilidade para grandes volumes de dados.\n",
            "- A combinação das duas ferramentas permite uma abordagem versátil para diferentes cenários de análise de dados.\n",
            "\n"
          ]
        }
      ]
    }
  ]
}